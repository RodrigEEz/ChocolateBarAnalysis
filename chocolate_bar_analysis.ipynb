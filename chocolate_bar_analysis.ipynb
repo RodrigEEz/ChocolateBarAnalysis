{
 "cells": [
  {
   "attachments": {},
   "cell_type": "markdown",
   "metadata": {},
   "source": [
    "# Chocolate bar analysis"
   ]
  },
  {
   "attachments": {},
   "cell_type": "markdown",
   "metadata": {},
   "source": [
    "## Import data"
   ]
  },
  {
   "cell_type": "code",
   "execution_count": 1,
   "metadata": {},
   "outputs": [],
   "source": [
    "#import dependencies here\n",
    "import numpy as np\n",
    "import pandas as pd\n",
    "import matplotlib.pyplot as plt\n",
    "import seaborn as sns\n",
    "import scipy\n",
    "\n",
    "sns.set_style('darkgrid')\n",
    "\n",
    "#data origin\n",
    "origin = '..\\databases\\Chocolate_bar_ratings_2022.csv'\n",
    "pd.options.display.float_format = '{:,.2f}'.format"
   ]
  },
  {
   "attachments": {},
   "cell_type": "markdown",
   "metadata": {},
   "source": [
    "## data overview and cleaning\n"
   ]
  },
  {
   "cell_type": "code",
   "execution_count": 2,
   "metadata": {},
   "outputs": [],
   "source": [
    "chocolate = pd.read_csv(origin, index_col='REF')"
   ]
  },
  {
   "cell_type": "code",
   "execution_count": 3,
   "metadata": {},
   "outputs": [
    {
     "data": {
      "text/html": [
       "<div>\n",
       "<style scoped>\n",
       "    .dataframe tbody tr th:only-of-type {\n",
       "        vertical-align: middle;\n",
       "    }\n",
       "\n",
       "    .dataframe tbody tr th {\n",
       "        vertical-align: top;\n",
       "    }\n",
       "\n",
       "    .dataframe thead th {\n",
       "        text-align: right;\n",
       "    }\n",
       "</style>\n",
       "<table border=\"1\" class=\"dataframe\">\n",
       "  <thead>\n",
       "    <tr style=\"text-align: right;\">\n",
       "      <th></th>\n",
       "      <th>Company (Manufacturer)</th>\n",
       "      <th>Company Location</th>\n",
       "      <th>Review Date</th>\n",
       "      <th>Country of Bean Origin</th>\n",
       "      <th>Specific Bean Origin or Bar Name</th>\n",
       "      <th>Cocoa Percent</th>\n",
       "      <th>Ingredients</th>\n",
       "      <th>Most Memorable Characteristics</th>\n",
       "      <th>Rating</th>\n",
       "    </tr>\n",
       "    <tr>\n",
       "      <th>REF</th>\n",
       "      <th></th>\n",
       "      <th></th>\n",
       "      <th></th>\n",
       "      <th></th>\n",
       "      <th></th>\n",
       "      <th></th>\n",
       "      <th></th>\n",
       "      <th></th>\n",
       "      <th></th>\n",
       "    </tr>\n",
       "  </thead>\n",
       "  <tbody>\n",
       "    <tr>\n",
       "      <th>2454</th>\n",
       "      <td>5150</td>\n",
       "      <td>U.S.A.</td>\n",
       "      <td>2019</td>\n",
       "      <td>Tanzania</td>\n",
       "      <td>Kokoa Kamili, batch 1</td>\n",
       "      <td>76%</td>\n",
       "      <td>3- B,S,C</td>\n",
       "      <td>rich cocoa, fatty, bready</td>\n",
       "      <td>3.25</td>\n",
       "    </tr>\n",
       "    <tr>\n",
       "      <th>2454</th>\n",
       "      <td>5150</td>\n",
       "      <td>U.S.A.</td>\n",
       "      <td>2019</td>\n",
       "      <td>Madagascar</td>\n",
       "      <td>Bejofo Estate, batch 1</td>\n",
       "      <td>76%</td>\n",
       "      <td>3- B,S,C</td>\n",
       "      <td>cocoa, blackberry, full body</td>\n",
       "      <td>3.75</td>\n",
       "    </tr>\n",
       "    <tr>\n",
       "      <th>2458</th>\n",
       "      <td>5150</td>\n",
       "      <td>U.S.A.</td>\n",
       "      <td>2019</td>\n",
       "      <td>Dominican Republic</td>\n",
       "      <td>Zorzal, batch 1</td>\n",
       "      <td>76%</td>\n",
       "      <td>3- B,S,C</td>\n",
       "      <td>cocoa, vegetal, savory</td>\n",
       "      <td>3.50</td>\n",
       "    </tr>\n",
       "    <tr>\n",
       "      <th>2542</th>\n",
       "      <td>5150</td>\n",
       "      <td>U.S.A.</td>\n",
       "      <td>2021</td>\n",
       "      <td>Fiji</td>\n",
       "      <td>Matasawalevu, batch 1</td>\n",
       "      <td>68%</td>\n",
       "      <td>3- B,S,C</td>\n",
       "      <td>chewy, off, rubbery</td>\n",
       "      <td>3.00</td>\n",
       "    </tr>\n",
       "    <tr>\n",
       "      <th>2542</th>\n",
       "      <td>5150</td>\n",
       "      <td>U.S.A.</td>\n",
       "      <td>2021</td>\n",
       "      <td>India</td>\n",
       "      <td>Anamalai, batch 1</td>\n",
       "      <td>68%</td>\n",
       "      <td>3- B,S,C</td>\n",
       "      <td>milk brownie, macadamia,chewy</td>\n",
       "      <td>3.50</td>\n",
       "    </tr>\n",
       "  </tbody>\n",
       "</table>\n",
       "</div>"
      ],
      "text/plain": [
       "     Company (Manufacturer) Company Location  Review Date  \\\n",
       "REF                                                         \n",
       "2454                   5150           U.S.A.         2019   \n",
       "2454                   5150           U.S.A.         2019   \n",
       "2458                   5150           U.S.A.         2019   \n",
       "2542                   5150           U.S.A.         2021   \n",
       "2542                   5150           U.S.A.         2021   \n",
       "\n",
       "     Country of Bean Origin Specific Bean Origin or Bar Name Cocoa Percent  \\\n",
       "REF                                                                          \n",
       "2454               Tanzania            Kokoa Kamili, batch 1           76%   \n",
       "2454             Madagascar           Bejofo Estate, batch 1           76%   \n",
       "2458     Dominican Republic                  Zorzal, batch 1           76%   \n",
       "2542                   Fiji            Matasawalevu, batch 1           68%   \n",
       "2542                  India                Anamalai, batch 1           68%   \n",
       "\n",
       "     Ingredients Most Memorable Characteristics  Rating  \n",
       "REF                                                      \n",
       "2454    3- B,S,C      rich cocoa, fatty, bready    3.25  \n",
       "2454    3- B,S,C   cocoa, blackberry, full body    3.75  \n",
       "2458    3- B,S,C         cocoa, vegetal, savory    3.50  \n",
       "2542    3- B,S,C            chewy, off, rubbery    3.00  \n",
       "2542    3- B,S,C  milk brownie, macadamia,chewy    3.50  "
      ]
     },
     "execution_count": 3,
     "metadata": {},
     "output_type": "execute_result"
    }
   ],
   "source": [
    "chocolate.head()"
   ]
  },
  {
   "cell_type": "code",
   "execution_count": 4,
   "metadata": {},
   "outputs": [
    {
     "name": "stdout",
     "output_type": "stream",
     "text": [
      "<class 'pandas.core.frame.DataFrame'>\n",
      "Int64Index: 2588 entries, 2454 to 2170\n",
      "Data columns (total 9 columns):\n",
      " #   Column                            Non-Null Count  Dtype  \n",
      "---  ------                            --------------  -----  \n",
      " 0   Company (Manufacturer)            2588 non-null   object \n",
      " 1   Company Location                  2588 non-null   object \n",
      " 2   Review Date                       2588 non-null   int64  \n",
      " 3   Country of Bean Origin            2588 non-null   object \n",
      " 4   Specific Bean Origin or Bar Name  2588 non-null   object \n",
      " 5   Cocoa Percent                     2588 non-null   object \n",
      " 6   Ingredients                       2501 non-null   object \n",
      " 7   Most Memorable Characteristics    2588 non-null   object \n",
      " 8   Rating                            2588 non-null   float64\n",
      "dtypes: float64(1), int64(1), object(7)\n",
      "memory usage: 202.2+ KB\n"
     ]
    }
   ],
   "source": [
    "chocolate.info()"
   ]
  },
  {
   "cell_type": "code",
   "execution_count": 5,
   "metadata": {},
   "outputs": [],
   "source": [
    "chocolate['Cocoa Percent'] = (chocolate['Cocoa Percent'].str.replace('%','').astype(float))/100"
   ]
  },
  {
   "cell_type": "code",
   "execution_count": 6,
   "metadata": {},
   "outputs": [
    {
     "data": {
      "text/html": [
       "<div>\n",
       "<style scoped>\n",
       "    .dataframe tbody tr th:only-of-type {\n",
       "        vertical-align: middle;\n",
       "    }\n",
       "\n",
       "    .dataframe tbody tr th {\n",
       "        vertical-align: top;\n",
       "    }\n",
       "\n",
       "    .dataframe thead th {\n",
       "        text-align: right;\n",
       "    }\n",
       "</style>\n",
       "<table border=\"1\" class=\"dataframe\">\n",
       "  <thead>\n",
       "    <tr style=\"text-align: right;\">\n",
       "      <th></th>\n",
       "      <th>Review Date</th>\n",
       "      <th>Cocoa Percent</th>\n",
       "      <th>Rating</th>\n",
       "    </tr>\n",
       "  </thead>\n",
       "  <tbody>\n",
       "    <tr>\n",
       "      <th>count</th>\n",
       "      <td>2,588.00</td>\n",
       "      <td>2,588.00</td>\n",
       "      <td>2,588.00</td>\n",
       "    </tr>\n",
       "    <tr>\n",
       "      <th>mean</th>\n",
       "      <td>2,014.55</td>\n",
       "      <td>0.72</td>\n",
       "      <td>3.20</td>\n",
       "    </tr>\n",
       "    <tr>\n",
       "      <th>std</th>\n",
       "      <td>4.08</td>\n",
       "      <td>0.06</td>\n",
       "      <td>0.44</td>\n",
       "    </tr>\n",
       "    <tr>\n",
       "      <th>min</th>\n",
       "      <td>2,006.00</td>\n",
       "      <td>0.42</td>\n",
       "      <td>1.00</td>\n",
       "    </tr>\n",
       "    <tr>\n",
       "      <th>25%</th>\n",
       "      <td>2,012.00</td>\n",
       "      <td>0.70</td>\n",
       "      <td>3.00</td>\n",
       "    </tr>\n",
       "    <tr>\n",
       "      <th>50%</th>\n",
       "      <td>2,015.00</td>\n",
       "      <td>0.70</td>\n",
       "      <td>3.25</td>\n",
       "    </tr>\n",
       "    <tr>\n",
       "      <th>75%</th>\n",
       "      <td>2,018.00</td>\n",
       "      <td>0.74</td>\n",
       "      <td>3.50</td>\n",
       "    </tr>\n",
       "    <tr>\n",
       "      <th>max</th>\n",
       "      <td>2,022.00</td>\n",
       "      <td>1.00</td>\n",
       "      <td>4.00</td>\n",
       "    </tr>\n",
       "  </tbody>\n",
       "</table>\n",
       "</div>"
      ],
      "text/plain": [
       "       Review Date  Cocoa Percent   Rating\n",
       "count     2,588.00       2,588.00 2,588.00\n",
       "mean      2,014.55           0.72     3.20\n",
       "std           4.08           0.06     0.44\n",
       "min       2,006.00           0.42     1.00\n",
       "25%       2,012.00           0.70     3.00\n",
       "50%       2,015.00           0.70     3.25\n",
       "75%       2,018.00           0.74     3.50\n",
       "max       2,022.00           1.00     4.00"
      ]
     },
     "execution_count": 6,
     "metadata": {},
     "output_type": "execute_result"
    }
   ],
   "source": [
    "chocolate.describe()"
   ]
  },
  {
   "cell_type": "code",
   "execution_count": 7,
   "metadata": {},
   "outputs": [],
   "source": [
    "#separate ingredient number from ingredients\n",
    "chocolate[['Ingredient_number','Ingredients']] = chocolate.Ingredients.str.split('-', expand=True)\n",
    "chocolate['Ingredient_number'] = chocolate['Ingredient_number'].astype('float').astype('Int64')"
   ]
  },
  {
   "cell_type": "code",
   "execution_count": 8,
   "metadata": {},
   "outputs": [],
   "source": [
    "regions = pd.read_csv('countries.csv', names=['country','region'])\n",
    "\n",
    "chocolate = pd.merge(chocolate,regions, how='inner', left_on='Country of Bean Origin',right_on='country')"
   ]
  },
  {
   "attachments": {},
   "cell_type": "markdown",
   "metadata": {},
   "source": [
    "## Exploratory data analysis"
   ]
  },
  {
   "attachments": {},
   "cell_type": "markdown",
   "metadata": {},
   "source": [
    "### 1) ¿What attributes makes a chocolate have a better rating?\n",
    "\n",
    "Before analyzing attributes, lets understand how Rating is distributed across 2588 chocolate bars\n"
   ]
  },
  {
   "cell_type": "code",
   "execution_count": 9,
   "metadata": {},
   "outputs": [
    {
     "data": {
      "text/plain": [
       "Rating\n",
       "1.00     0.15%\n",
       "1.50     0.39%\n",
       "1.75     0.12%\n",
       "2.00     1.28%\n",
       "2.25     0.66%\n",
       "2.50     6.53%\n",
       "2.75    13.10%\n",
       "3.00    20.63%\n",
       "3.25    18.32%\n",
       "3.50    22.57%\n",
       "3.75    11.82%\n",
       "4.00     4.44%\n",
       "Name: Rating, dtype: object"
      ]
     },
     "execution_count": 9,
     "metadata": {},
     "output_type": "execute_result"
    }
   ],
   "source": [
    "chocolate_distribution = chocolate.groupby('Rating')['Rating'].count()/chocolate.Rating.count()\n",
    "\n",
    "chocolate_distribution.map('{:,.2%}'.format)"
   ]
  },
  {
   "cell_type": "code",
   "execution_count": 10,
   "metadata": {},
   "outputs": [
    {
     "data": {
      "text/plain": [
       "<seaborn.axisgrid.FacetGrid at 0x286602cefb0>"
      ]
     },
     "execution_count": 10,
     "metadata": {},
     "output_type": "execute_result"
    },
    {
     "data": {
      "image/png": "[encoded data removed]",
      "text/plain": [
       "<Figure size 360x360 with 1 Axes>"
      ]
     },
     "metadata": {},
     "output_type": "display_data"
    }
   ],
   "source": [
    "sns.displot(chocolate.Rating).set(title='Rating distribution')"
   ]
  },
  {
   "attachments": {},
   "cell_type": "markdown",
   "metadata": {},
   "source": [
    "more than 95% of the chocolate bars have a rating greater than or equal to 2.5"
   ]
  },
  {
   "attachments": {},
   "cell_type": "markdown",
   "metadata": {},
   "source": [
    "Since Rating is a discrete value, lets group them by the categories defined by the responsible of testing and rating the bars"
   ]
  },
  {
   "cell_type": "code",
   "execution_count": 11,
   "metadata": {},
   "outputs": [],
   "source": [
    "def categorize_rating(x):\n",
    "    if x <= 2.75:\n",
    "        return 'dissapointing'\n",
    "    if x == 3.0 or x == 3.25:\n",
    "        return 'recommended'\n",
    "    if x == 3.5 or x == 3.75:\n",
    "        return 'highly recommended'\n",
    "    if x == 4.0:\n",
    "        return 'outstanding'\n",
    "    \n",
    "chocolate['Rating_number'] = chocolate['Rating']\n",
    "chocolate['Rating'] = chocolate['Rating'].apply(categorize_rating)"
   ]
  },
  {
   "cell_type": "code",
   "execution_count": 12,
   "metadata": {},
   "outputs": [
    {
     "name": "stdout",
     "output_type": "stream",
     "text": [
      "Rating categories frequencies\n"
     ]
    },
    {
     "data": {
      "text/plain": [
       "Rating\n",
       "dissapointing        0.22\n",
       "highly recommended   0.34\n",
       "outstanding          0.04\n",
       "recommended          0.39\n",
       "Name: Rating, dtype: float64"
      ]
     },
     "execution_count": 12,
     "metadata": {},
     "output_type": "execute_result"
    }
   ],
   "source": [
    "print('Rating categories frequencies')\n",
    "chocolate.groupby('Rating')['Rating'].count()/chocolate.Rating.count()"
   ]
  },
  {
   "attachments": {},
   "cell_type": "markdown",
   "metadata": {},
   "source": [
    "#### 1.1) Number of ingredients"
   ]
  },
  {
   "attachments": {},
   "cell_type": "markdown",
   "metadata": {},
   "source": [
    "Let´s start understanding how ingredient number can affect rating"
   ]
  },
  {
   "cell_type": "code",
   "execution_count": 13,
   "metadata": {},
   "outputs": [],
   "source": [
    "#Create ingredients_rating dataframe\n",
    "ingredients_rating = chocolate.loc[:,['Review Date','Ingredient_number','Ingredients', 'Rating']]\n",
    "ingredients_rating.dropna(axis=0, inplace=True)\n",
    "\n",
    "#convert ingredients column into list\n",
    "import ast\n",
    "ingredients_rating['Ingredients'] = \"['\"+ingredients_rating.Ingredients.str.replace(' ','').str.replace(\",\",\"', '\")+\"']\"\n",
    "ingredients_rating.Ingredients = ingredients_rating.Ingredients.apply(ast.literal_eval)"
   ]
  },
  {
   "cell_type": "code",
   "execution_count": 14,
   "metadata": {},
   "outputs": [
    {
     "data": {
      "text/plain": [
       "[Text(0.5, 1.0, 'Ingredient number % of participation')]"
      ]
     },
     "execution_count": 14,
     "metadata": {},
     "output_type": "execute_result"
    },
    {
     "data": {
      "image/png": "[encoded data removed]",
      "text/plain": [
       "<Figure size 432x288 with 1 Axes>"
      ]
     },
     "metadata": {},
     "output_type": "display_data"
    }
   ],
   "source": [
    "rating_by_number = ingredients_rating.groupby('Ingredient_number')['Ingredient_number'].count()/ingredients_rating.Ingredient_number.count()\n",
    "sns.barplot(x=rating_by_number.index,y=rating_by_number.values).set(title='Ingredient number % of participation')"
   ]
  },
  {
   "cell_type": "code",
   "execution_count": 15,
   "metadata": {},
   "outputs": [],
   "source": [
    "rating_by_number = ingredients_rating.groupby(['Ingredient_number','Rating']).count().astype('int')['Review Date']\n",
    "rating_by_number = pd.DataFrame(rating_by_number).reset_index().rename(columns={\"Review Date\":\"Quantity\"})\n",
    "rating_by_number['Percentage'] = rating_by_number['Quantity'] / rating_by_number.groupby('Ingredient_number')['Quantity'].transform('sum').astype('float')\n",
    "rating_by_number = rating_by_number[(rating_by_number['Ingredient_number'] >1) & (rating_by_number['Ingredient_number'] <6)]"
   ]
  },
  {
   "cell_type": "code",
   "execution_count": 16,
   "metadata": {},
   "outputs": [
    {
     "data": {
      "image/png": "[encoded data removed]",
      "text/plain": [
       "<Figure size 432x288 with 1 Axes>"
      ]
     },
     "metadata": {},
     "output_type": "display_data"
    }
   ],
   "source": [
    "category_order = ['dissapointing', 'recommended','highly recommended', 'outstanding']\n",
    "ax = sns.barplot(data=rating_by_number, x='Ingredient_number', y='Percentage', hue='Rating', hue_order=category_order)\n",
    "ax.set(title='Ingredient number % of participation, by rating')\n",
    "sns.move_legend(ax, \"upper left\", bbox_to_anchor=(1, 1))"
   ]
  },
  {
   "attachments": {},
   "cell_type": "markdown",
   "metadata": {},
   "source": [
    "As number of ingredients increase, most variation occurs in dissapointing and highly recommended frequencies"
   ]
  },
  {
   "cell_type": "code",
   "execution_count": 17,
   "metadata": {},
   "outputs": [
    {
     "data": {
      "text/plain": [
       "[Text(0.5, 1.0, 'Decrease in higher rating participation in more ingredients bars')]"
      ]
     },
     "execution_count": 17,
     "metadata": {},
     "output_type": "execute_result"
    },
    {
     "data": {
      "image/png": "[encoded data removed]",
      "text/plain": [
       "<Figure size 432x288 with 1 Axes>"
      ]
     },
     "metadata": {},
     "output_type": "display_data"
    }
   ],
   "source": [
    "sns.pointplot(data=rating_by_number[(rating_by_number.Rating == 'dissapointing') |  (rating_by_number.Rating == 'highly recommended')],x='Ingredient_number', y='Percentage', hue='Rating').set(title='Decrease in higher rating participation in more ingredients bars')"
   ]
  },
  {
   "attachments": {},
   "cell_type": "markdown",
   "metadata": {},
   "source": [
    "Number of bars rated as dissapointing increases in bars with more ingredients. Inversely, as number of ingredients increase, number of bars rated as highly recommended decreases"
   ]
  },
  {
   "attachments": {},
   "cell_type": "markdown",
   "metadata": {},
   "source": [
    "#### 1.2) Ingredients"
   ]
  },
  {
   "attachments": {},
   "cell_type": "markdown",
   "metadata": {},
   "source": [
    "How ingredients impact bar ratings?"
   ]
  },
  {
   "cell_type": "code",
   "execution_count": 18,
   "metadata": {},
   "outputs": [],
   "source": [
    "ingredients_rating_exploded = ingredients_rating.explode('Ingredients').reset_index()\n",
    "\n",
    "ingredient_names = {'B':'Beans', 'S':'Sugar','S*':'Sweetener',  'C':'Cocoa Butter', 'V':'Vanilla', 'L' : 'Lecithin', 'Sa':'Salt'}\n",
    "\n",
    "ingredients_rating_exploded.Ingredients = ingredients_rating_exploded.Ingredients.replace(ingredient_names)"
   ]
  },
  {
   "attachments": {},
   "cell_type": "markdown",
   "metadata": {},
   "source": [
    "First let's analyze how are chocolate bars composed"
   ]
  },
  {
   "cell_type": "code",
   "execution_count": 19,
   "metadata": {},
   "outputs": [
    {
     "data": {
      "text/plain": [
       "[Text(0.5, 1.0, '% of bars with ingredient')]"
      ]
     },
     "execution_count": 19,
     "metadata": {},
     "output_type": "execute_result"
    },
    {
     "data": {
      "image/png": "[encoded data removed]",
      "text/plain": [
       "<Figure size 432x288 with 1 Axes>"
      ]
     },
     "metadata": {},
     "output_type": "display_data"
    }
   ],
   "source": [
    "result = ingredients_rating_exploded.groupby('Ingredients').count()['Review Date']/ingredients_rating['Review Date'].count()\n",
    "sns.barplot(x=result.index, y=result.values).set(title='% of bars with ingredient')"
   ]
  },
  {
   "attachments": {},
   "cell_type": "markdown",
   "metadata": {},
   "source": [
    "We see that the majority of bars are composed of Cacao Beans, Sugar and Cocoa Butter"
   ]
  },
  {
   "attachments": {},
   "cell_type": "markdown",
   "metadata": {},
   "source": [
    "Does any ingredient impact on bar rating?"
   ]
  },
  {
   "cell_type": "code",
   "execution_count": 20,
   "metadata": {},
   "outputs": [
    {
     "data": {
      "text/plain": [
       "[Text(0.5, 1.0, 'Distribution of ratings per Ingredient')]"
      ]
     },
     "execution_count": 20,
     "metadata": {},
     "output_type": "execute_result"
    },
    {
     "data": {
      "image/png": "[encoded data removed]",
      "text/plain": [
       "<Figure size 432x288 with 2 Axes>"
      ]
     },
     "metadata": {},
     "output_type": "display_data"
    }
   ],
   "source": [
    "ingredients_contingency = pd.crosstab(index=ingredients_rating_exploded['Ingredients'], columns=ingredients_rating_exploded['Rating'], normalize='index')\n",
    "\n",
    "ingredients_contingency = ingredients_contingency.reindex(category_order, axis='columns')\n",
    "\n",
    "sns.heatmap(ingredients_contingency,cmap='YlGnBu', annot=True, fmt='.0%').set(title='Distribution of ratings per Ingredient')"
   ]
  },
  {
   "attachments": {},
   "cell_type": "markdown",
   "metadata": {},
   "source": [
    "This heatmap shows the distribution of ratings across every ingredient. Bars containing Salt, Sweetener and Vanilla, are more concentrated in lower ratings than the rest of ingredients. \n",
    "\n",
    "Is this a sign of relation, or is it due to chance? To determine if it exist a dependence between variables, we have to use a statistical test."
   ]
  },
  {
   "attachments": {},
   "cell_type": "markdown",
   "metadata": {},
   "source": [
    "##### Chi-square test of independence:\n",
    "\n",
    "Chi-square statistic it´s used to determine if it exists a statistical significance in observed frequencies. We'll use it to determine if observed frequencies in ingredients are statistical significant"
   ]
  },
  {
   "attachments": {},
   "cell_type": "markdown",
   "metadata": {},
   "source": [
    "Since ingredient dataframe is representing many bars at once, we'll have to encode the ingredient variable this way: for every ingredient, a binary column contains YES for every bar that has that ingredient, and NO for every bar that doesn't.\n",
    "\n",
    "This is beneficial, since it gives us additional information. Now we can compare frequencies between bars that CONTAIN an ingredient and bars that DON'T."
   ]
  },
  {
   "cell_type": "code",
   "execution_count": 21,
   "metadata": {},
   "outputs": [],
   "source": [
    "def encode_ingredients(x, column_name):\n",
    "    for item in x:\n",
    "        if item == column_name:\n",
    "            return 'YES'\n",
    "\n",
    "ingredients_rating_encoded = ingredients_rating\n",
    "ingredients_rating_encoded['Beans'] = ingredients_rating_encoded['Ingredients'].apply(lambda x: encode_ingredients(x,'B'))\n",
    "ingredients_rating_encoded['Sugar'] = ingredients_rating_encoded['Ingredients'].apply(lambda x: encode_ingredients(x,'S'))\n",
    "ingredients_rating_encoded['Sweetener'] = ingredients_rating_encoded['Ingredients'].apply(lambda x: encode_ingredients(x,'S*'))\n",
    "ingredients_rating_encoded['Cocoa Butter'] = ingredients_rating_encoded['Ingredients'].apply(lambda x: encode_ingredients(x,'C'))\n",
    "ingredients_rating_encoded['Vanilla'] = ingredients_rating_encoded['Ingredients'].apply(lambda x: encode_ingredients(x,'V'))\n",
    "ingredients_rating_encoded['Lecithin'] = ingredients_rating_encoded['Ingredients'].apply(lambda x: encode_ingredients(x,'L'))\n",
    "ingredients_rating_encoded['Salt'] = ingredients_rating_encoded['Ingredients'].apply(lambda x: encode_ingredients(x,'Sa'))"
   ]
  },
  {
   "cell_type": "code",
   "execution_count": 22,
   "metadata": {},
   "outputs": [],
   "source": [
    "ingredients_rating_encoded.fillna(value='NO',inplace=True)"
   ]
  },
  {
   "attachments": {},
   "cell_type": "markdown",
   "metadata": {},
   "source": [
    "Hypothesis testing\n",
    "\n",
    "For every ingredient:\n",
    "\n",
    "H0: Bars that with the ingredient have simillar ratings that bars without it \n",
    "\n",
    "Ha: Bars that with the ingredient have different ratings that bars without it \n",
    "\n",
    "Confidence interval: 95%"
   ]
  },
  {
   "cell_type": "code",
   "execution_count": 23,
   "metadata": {},
   "outputs": [
    {
     "name": "stdout",
     "output_type": "stream",
     "text": [
      "Beans: 1.0\n",
      "Sugar: 0.0006687384553445588\n",
      "Sweetener: 0.0013774321929555275\n",
      "Cocoa Butter: 0.2119690749034281\n",
      "Vanilla: 4.620728219723512e-10\n",
      "Lecithin: 0.04743898998462554\n",
      "Salt: 0.2063315660390613\n"
     ]
    }
   ],
   "source": [
    "for column in ingredients_rating_encoded.iloc[:,4:]:\n",
    "    crosstab = pd.crosstab(index=ingredients_rating_encoded[column], columns=ingredients_rating_encoded['Rating'])\n",
    "    print(column + ': ' + str(scipy.stats.chi2_contingency(crosstab)[1]))\n"
   ]
  },
  {
   "attachments": {},
   "cell_type": "markdown",
   "metadata": {},
   "source": [
    "Vanilla, Sweetener and Sugar have significant p-values, meaning that the probability of the values we observed are due to chance is really low.\n",
    "\n",
    "Now that we found an association between some ingredients and their distributions across ratings, let's measure the strength of these associations"
   ]
  },
  {
   "attachments": {},
   "cell_type": "markdown",
   "metadata": {},
   "source": [
    "##### Cramer's V\n",
    "\n",
    "Cramer's V measures the association between nominal variables (called the Effect Size). The measure can be interpreted as:\n",
    "\n",
    "V∈[0.1,0.3]: weak association\n",
    "\n",
    "V∈[0.4,0.5]: medium association\n",
    "\n",
    "V>0.5: strong association"
   ]
  },
  {
   "cell_type": "code",
   "execution_count": 24,
   "metadata": {},
   "outputs": [],
   "source": [
    "def cramers_v(x,dataset):\n",
    "    dataset = dataset.to_numpy()\n",
    "    n = np.sum(dataset)\n",
    "    minimum_dimension = min(dataset.shape)-1\n",
    "\n",
    "    result = np.sqrt((x/n)/minimum_dimension)\n",
    "    return result\n"
   ]
  },
  {
   "cell_type": "code",
   "execution_count": 25,
   "metadata": {},
   "outputs": [
    {
     "name": "stdout",
     "output_type": "stream",
     "text": [
      "Sugar Cramer's V: 0.08272812261083279\n",
      "Sweetener Cramer's V: 0.07894681970955239\n",
      "Vanilla Cramer's V: 0.13623498147141164\n"
     ]
    }
   ],
   "source": [
    "for column in ingredients_rating_encoded[['Sugar','Sweetener','Vanilla']]:\n",
    "    crosstab = pd.crosstab(index=ingredients_rating_encoded[column], columns=ingredients_rating_encoded['Rating']).reindex(category_order, axis='columns')\n",
    "    chi2 = scipy.stats.chi2_contingency(crosstab)[0]\n",
    "    print(column + \" Cramer's V: \" + str(cramers_v(chi2,crosstab)))\n",
    "    plt.show()"
   ]
  },
  {
   "attachments": {},
   "cell_type": "markdown",
   "metadata": {},
   "source": [
    "Vanilla Cramer's V is > 0.1. Based on Effect Size interpretation, we can say that it exists a weak association between Vanilla and Rating"
   ]
  },
  {
   "cell_type": "code",
   "execution_count": 26,
   "metadata": {},
   "outputs": [
    {
     "data": {
      "text/plain": [
       "Text(0.5, 1.0, 'Rating distribution, bars with/without vanilla')"
      ]
     },
     "execution_count": 26,
     "metadata": {},
     "output_type": "execute_result"
    },
    {
     "data": {
      "image/png": "[encoded data removed]",
      "text/plain": [
       "<Figure size 432x288 with 2 Axes>"
      ]
     },
     "metadata": {},
     "output_type": "display_data"
    }
   ],
   "source": [
    "vanilla_crosstab = pd.crosstab(index=ingredients_rating_encoded['Vanilla'], columns=ingredients_rating_encoded['Rating'], normalize='index').reindex(category_order, axis='columns')\n",
    "sns.heatmap(vanilla_crosstab,cmap='YlGnBu', annot=True, fmt='.0%').set_title('Rating distribution, bars with/without vanilla')"
   ]
  },
  {
   "attachments": {},
   "cell_type": "markdown",
   "metadata": {},
   "source": [
    "Vanilla presence in the analyzed chocolate bars has a weak association with lower bar Ratings "
   ]
  },
  {
   "attachments": {},
   "cell_type": "markdown",
   "metadata": {},
   "source": [
    "#### 1.3) Cocoa Percent"
   ]
  },
  {
   "attachments": {},
   "cell_type": "markdown",
   "metadata": {},
   "source": [
    "Can cocoa percent affect the overall rating of the bar?"
   ]
  },
  {
   "cell_type": "code",
   "execution_count": 27,
   "metadata": {},
   "outputs": [],
   "source": [
    "cocoa_rating = chocolate[['Cocoa Percent', 'Rating_number']].reset_index()"
   ]
  },
  {
   "attachments": {},
   "cell_type": "markdown",
   "metadata": {},
   "source": [
    "Let's start by defining Cocoa Percent data type "
   ]
  },
  {
   "cell_type": "code",
   "execution_count": 28,
   "metadata": {},
   "outputs": [
    {
     "name": "stdout",
     "output_type": "stream",
     "text": [
      "data is discrete\n"
     ]
    }
   ],
   "source": [
    "#calculate categorical threshold\n",
    "if (cocoa_rating['Cocoa Percent'].nunique()/len(cocoa_rating)) < 0.1:\n",
    "    print(\"data is discrete\")\n",
    "else:\n",
    "    print(\"data is continuous\")\n",
    "\n",
    "\n"
   ]
  },
  {
   "attachments": {},
   "cell_type": "markdown",
   "metadata": {},
   "source": [
    "The above code tests data cardinality. if unique values/total records count is low (in this case less than 10%) then we can conclude that data is discrete "
   ]
  },
  {
   "cell_type": "code",
   "execution_count": 29,
   "metadata": {},
   "outputs": [
    {
     "data": {
      "text/html": [
       "<div>\n",
       "<style scoped>\n",
       "    .dataframe tbody tr th:only-of-type {\n",
       "        vertical-align: middle;\n",
       "    }\n",
       "\n",
       "    .dataframe tbody tr th {\n",
       "        vertical-align: top;\n",
       "    }\n",
       "\n",
       "    .dataframe thead th {\n",
       "        text-align: right;\n",
       "    }\n",
       "</style>\n",
       "<table border=\"1\" class=\"dataframe\">\n",
       "  <thead>\n",
       "    <tr style=\"text-align: right;\">\n",
       "      <th></th>\n",
       "      <th>Cocoa Percent</th>\n",
       "      <th>%</th>\n",
       "      <th>cumm %</th>\n",
       "    </tr>\n",
       "  </thead>\n",
       "  <tbody>\n",
       "    <tr>\n",
       "      <th>0.70</th>\n",
       "      <td>1070</td>\n",
       "      <td>0.41</td>\n",
       "      <td>0.41</td>\n",
       "    </tr>\n",
       "    <tr>\n",
       "      <th>0.75</th>\n",
       "      <td>312</td>\n",
       "      <td>0.12</td>\n",
       "      <td>0.53</td>\n",
       "    </tr>\n",
       "    <tr>\n",
       "      <th>0.72</th>\n",
       "      <td>309</td>\n",
       "      <td>0.12</td>\n",
       "      <td>0.65</td>\n",
       "    </tr>\n",
       "    <tr>\n",
       "      <th>0.65</th>\n",
       "      <td>93</td>\n",
       "      <td>0.04</td>\n",
       "      <td>0.69</td>\n",
       "    </tr>\n",
       "    <tr>\n",
       "      <th>0.80</th>\n",
       "      <td>90</td>\n",
       "      <td>0.03</td>\n",
       "      <td>0.72</td>\n",
       "    </tr>\n",
       "    <tr>\n",
       "      <th>0.68</th>\n",
       "      <td>75</td>\n",
       "      <td>0.03</td>\n",
       "      <td>0.75</td>\n",
       "    </tr>\n",
       "    <tr>\n",
       "      <th>0.74</th>\n",
       "      <td>69</td>\n",
       "      <td>0.03</td>\n",
       "      <td>0.78</td>\n",
       "    </tr>\n",
       "    <tr>\n",
       "      <th>0.73</th>\n",
       "      <td>67</td>\n",
       "      <td>0.03</td>\n",
       "      <td>0.81</td>\n",
       "    </tr>\n",
       "    <tr>\n",
       "      <th>0.60</th>\n",
       "      <td>46</td>\n",
       "      <td>0.02</td>\n",
       "      <td>0.82</td>\n",
       "    </tr>\n",
       "    <tr>\n",
       "      <th>0.71</th>\n",
       "      <td>44</td>\n",
       "      <td>0.02</td>\n",
       "      <td>0.84</td>\n",
       "    </tr>\n",
       "  </tbody>\n",
       "</table>\n",
       "</div>"
      ],
      "text/plain": [
       "      Cocoa Percent    %  cumm %\n",
       "0.70           1070 0.41    0.41\n",
       "0.75            312 0.12    0.53\n",
       "0.72            309 0.12    0.65\n",
       "0.65             93 0.04    0.69\n",
       "0.80             90 0.03    0.72\n",
       "0.68             75 0.03    0.75\n",
       "0.74             69 0.03    0.78\n",
       "0.73             67 0.03    0.81\n",
       "0.60             46 0.02    0.82\n",
       "0.71             44 0.02    0.84"
      ]
     },
     "execution_count": 29,
     "metadata": {},
     "output_type": "execute_result"
    }
   ],
   "source": [
    "cocoa_frequencies = pd.DataFrame(cocoa_rating['Cocoa Percent'].value_counts())\n",
    "cocoa_frequencies['%'] = cocoa_frequencies['Cocoa Percent'] / np.sum(cocoa_frequencies['Cocoa Percent'])\n",
    "cocoa_frequencies['cumm %'] = cocoa_frequencies['%'].cumsum()\n",
    "cocoa_frequencies.head(10)"
   ]
  },
  {
   "attachments": {},
   "cell_type": "markdown",
   "metadata": {},
   "source": [
    "84% of bars can be grouped in these cocoa percents"
   ]
  },
  {
   "attachments": {},
   "cell_type": "markdown",
   "metadata": {},
   "source": [
    "Most of the chocolate bars having a cocoa percent greater to 60% makes sense since we are analyzing **plain dark chocolate bars**. Context about the topic is always important. That's why I encourage you to read the Flavors of Cacao website, where they document everything about  the dataset"
   ]
  },
  {
   "attachments": {},
   "cell_type": "markdown",
   "metadata": {},
   "source": [
    "Since both Rating and Cocoa Percent are ordinal values, we can compare both and observed if they are monotonically related.\n",
    "\n",
    "A monotonic relation means that as the value of one variable increases, the other variable increases too (direct) or decreases (inverse).\n",
    "\n",
    "This relation can be tested using Spearman's Rank-Order Correlation"
   ]
  },
  {
   "cell_type": "code",
   "execution_count": 30,
   "metadata": {},
   "outputs": [
    {
     "data": {
      "text/plain": [
       "SpearmanrResult(correlation=-0.10700879647699718, pvalue=4.846891797338299e-08)"
      ]
     },
     "execution_count": 30,
     "metadata": {},
     "output_type": "execute_result"
    }
   ],
   "source": [
    "scipy.stats.spearmanr(cocoa_rating['Cocoa Percent'], cocoa_rating['Rating_number'])"
   ]
  },
  {
   "attachments": {},
   "cell_type": "markdown",
   "metadata": {},
   "source": [
    "Even though p-value is less than 5%, correlation between cocoa percent and Rating is very weak (coef=-0.1 aprox)"
   ]
  },
  {
   "attachments": {},
   "cell_type": "markdown",
   "metadata": {},
   "source": [
    "### 1.4) Most Memorable Characteristics"
   ]
  },
  {
   "attachments": {},
   "cell_type": "markdown",
   "metadata": {},
   "source": [
    "Can qualitative attributes affect bar rating? If so, which ones affect the most?"
   ]
  },
  {
   "cell_type": "code",
   "execution_count": 31,
   "metadata": {},
   "outputs": [],
   "source": [
    "memorable = (chocolate[['Company (Manufacturer)','Country of Bean Origin','region','Most Memorable Characteristics','Rating']]).rename(columns={'Most Memorable Characteristics':'attribute'})\n",
    "\n"
   ]
  },
  {
   "cell_type": "code",
   "execution_count": 32,
   "metadata": {},
   "outputs": [],
   "source": [
    "memorable['attribute'] = \"['\"+memorable.attribute.str.replace(\",\",\"', '\")+\"']\"\n",
    "memorable['attribute'] = memorable.attribute.apply(ast.literal_eval)\n",
    "\n",
    "memorable_exploded = memorable.explode('attribute')\n",
    "memorable_exploded['attribute'] = memorable_exploded['attribute'].str.strip()"
   ]
  },
  {
   "cell_type": "code",
   "execution_count": 33,
   "metadata": {},
   "outputs": [
    {
     "data": {
      "text/plain": [
       "991"
      ]
     },
     "execution_count": 33,
     "metadata": {},
     "output_type": "execute_result"
    }
   ],
   "source": [
    "memorable_exploded['attribute'].nunique()  "
   ]
  },
  {
   "attachments": {},
   "cell_type": "markdown",
   "metadata": {},
   "source": [
    "There are more than 991 memorable characteristics in the dataset, meaning that it is a column with high cardinality. Cardinality refers to the number of possible values a column can have.\n",
    "\n",
    "the main problem with high cardinality data is [The Curse of Dimensionality](https://towardsdatascience.com/the-curse-of-dimensionality-50dc6e49aa1e). This obstacle arises specially when developing ML models. This can be solved using a correct encoding method.\n",
    "\n",
    "Since we are only analyzing the data through visualization and inferences, we won't encode this column (encoding can also make visualizations less intuitive and comprehensive).\n",
    "\n",
    "Instead, we'll reduce cardinality by grouping any characteristic with a frequency lower than the 1% of the total number of records into 'others'."
   ]
  },
  {
   "cell_type": "code",
   "execution_count": 34,
   "metadata": {},
   "outputs": [
    {
     "data": {
      "text/plain": [
       "58"
      ]
     },
     "execution_count": 34,
     "metadata": {},
     "output_type": "execute_result"
    }
   ],
   "source": [
    "len(memorable_exploded['attribute'].value_counts()[memorable_exploded['attribute'].value_counts() > 25])"
   ]
  },
  {
   "attachments": {},
   "cell_type": "markdown",
   "metadata": {},
   "source": [
    "With this method, we are able to decrease the number of unique values to 58.\n",
    "\n",
    "58 unique values still is a big number. Statistical tests (even non-parametric tests like chi-square) lose robustness with high cardinality data. Son we'll have to use another method. "
   ]
  },
  {
   "cell_type": "code",
   "execution_count": 35,
   "metadata": {},
   "outputs": [],
   "source": [
    "memorable_list = memorable_exploded['attribute'].value_counts()[memorable_exploded['attribute'].value_counts() > 25].index.to_list()"
   ]
  },
  {
   "cell_type": "code",
   "execution_count": 36,
   "metadata": {},
   "outputs": [],
   "source": [
    "def categorize_attributes(x, item_list):\n",
    "\n",
    "    result = 'others'\n",
    "\n",
    "    for item in item_list:\n",
    "        if x == item:\n",
    "            result = item\n",
    "            break\n",
    "    \n",
    "    return result\n",
    "        "
   ]
  },
  {
   "cell_type": "code",
   "execution_count": 37,
   "metadata": {},
   "outputs": [],
   "source": [
    "memorable_exploded['attribute_cat'] = memorable_exploded['attribute'].apply(lambda x: categorize_attributes(x,memorable_list))"
   ]
  },
  {
   "attachments": {},
   "cell_type": "markdown",
   "metadata": {},
   "source": [
    "One method is to rank characteristics by creating a score, based on how many bars with the characteristic fall within a certain rating."
   ]
  },
  {
   "cell_type": "code",
   "execution_count": 38,
   "metadata": {},
   "outputs": [
    {
     "data": {
      "text/html": [
       "<div>\n",
       "<style scoped>\n",
       "    .dataframe tbody tr th:only-of-type {\n",
       "        vertical-align: middle;\n",
       "    }\n",
       "\n",
       "    .dataframe tbody tr th {\n",
       "        vertical-align: top;\n",
       "    }\n",
       "\n",
       "    .dataframe thead th {\n",
       "        text-align: right;\n",
       "    }\n",
       "</style>\n",
       "<table border=\"1\" class=\"dataframe\">\n",
       "  <thead>\n",
       "    <tr style=\"text-align: right;\">\n",
       "      <th>Rating</th>\n",
       "      <th>dissapointing</th>\n",
       "      <th>recommended</th>\n",
       "      <th>highly recommended</th>\n",
       "      <th>outstanding</th>\n",
       "    </tr>\n",
       "    <tr>\n",
       "      <th>attribute_cat</th>\n",
       "      <th></th>\n",
       "      <th></th>\n",
       "      <th></th>\n",
       "      <th></th>\n",
       "    </tr>\n",
       "  </thead>\n",
       "  <tbody>\n",
       "    <tr>\n",
       "      <th>creamy</th>\n",
       "      <td>0.08</td>\n",
       "      <td>0.26</td>\n",
       "      <td>0.46</td>\n",
       "      <td>0.19</td>\n",
       "    </tr>\n",
       "    <tr>\n",
       "      <th>complex</th>\n",
       "      <td>0.00</td>\n",
       "      <td>0.25</td>\n",
       "      <td>0.57</td>\n",
       "      <td>0.19</td>\n",
       "    </tr>\n",
       "    <tr>\n",
       "      <th>strawberry</th>\n",
       "      <td>0.08</td>\n",
       "      <td>0.35</td>\n",
       "      <td>0.42</td>\n",
       "      <td>0.15</td>\n",
       "    </tr>\n",
       "    <tr>\n",
       "      <th>banana</th>\n",
       "      <td>0.13</td>\n",
       "      <td>0.30</td>\n",
       "      <td>0.43</td>\n",
       "      <td>0.15</td>\n",
       "    </tr>\n",
       "    <tr>\n",
       "      <th>honey</th>\n",
       "      <td>0.11</td>\n",
       "      <td>0.29</td>\n",
       "      <td>0.46</td>\n",
       "      <td>0.14</td>\n",
       "    </tr>\n",
       "  </tbody>\n",
       "</table>\n",
       "</div>"
      ],
      "text/plain": [
       "Rating         dissapointing  recommended  highly recommended  outstanding\n",
       "attribute_cat                                                             \n",
       "creamy                  0.08         0.26                0.46         0.19\n",
       "complex                 0.00         0.25                0.57         0.19\n",
       "strawberry              0.08         0.35                0.42         0.15\n",
       "banana                  0.13         0.30                0.43         0.15\n",
       "honey                   0.11         0.29                0.46         0.14"
      ]
     },
     "execution_count": 38,
     "metadata": {},
     "output_type": "execute_result"
    }
   ],
   "source": [
    "attributes_crosstab = (pd.crosstab(index=memorable_exploded['attribute_cat'], columns=memorable_exploded['Rating'], normalize='index')).reindex(category_order, axis='columns')\n",
    "\n",
    "attributes_crosstab.sort_values('outstanding', ascending=False).head()"
   ]
  },
  {
   "attachments": {},
   "cell_type": "markdown",
   "metadata": {},
   "source": [
    "Let's give a weight to every rating:\n",
    "\n",
    "dissapointing: 1\n",
    "\n",
    "recommended: 2\n",
    "\n",
    "highly recommended: 3\n",
    "\n",
    "outstanding: 4\n",
    "\n",
    "Then, we'll multiply these weights by the frequency of that rating, for that specific characteristic.\n",
    "\n",
    "Thus, characteristics with higher concentration in better ratings will have a greater ranking and those with higher concentrations in worse ratings will have a lower ranking. "
   ]
  },
  {
   "cell_type": "code",
   "execution_count": 39,
   "metadata": {},
   "outputs": [],
   "source": [
    "attributes_crosstab['weight'] = \\\n",
    "attributes_crosstab['dissapointing']*1 + \\\n",
    "attributes_crosstab['recommended']*2 + \\\n",
    "attributes_crosstab['highly recommended']*3 + \\\n",
    "attributes_crosstab['outstanding']*4"
   ]
  },
  {
   "cell_type": "code",
   "execution_count": 40,
   "metadata": {},
   "outputs": [
    {
     "data": {
      "text/plain": [
       "Text(0.5, 1.0, 'characteristics ranking distribution')"
      ]
     },
     "execution_count": 40,
     "metadata": {},
     "output_type": "execute_result"
    },
    {
     "data": {
      "image/png": "[encoded data removed]",
      "text/plain": [
       "<Figure size 432x288 with 1 Axes>"
      ]
     },
     "metadata": {},
     "output_type": "display_data"
    }
   ],
   "source": [
    "attributes_crosstab['weight'].hist().set_title('characteristics ranking distribution')"
   ]
  },
  {
   "cell_type": "code",
   "execution_count": 41,
   "metadata": {},
   "outputs": [
    {
     "name": "stdout",
     "output_type": "stream",
     "text": [
      "1st quartile: 1.9324307144673276\n",
      "3rd quartile: 2.48435972629521\n"
     ]
    }
   ],
   "source": [
    "print('1st quartile: ' + str(attributes_crosstab['weight'].quantile(.25)))\n",
    "print('3rd quartile: ' + str(attributes_crosstab['weight'].quantile(.75)))"
   ]
  },
  {
   "attachments": {},
   "cell_type": "markdown",
   "metadata": {},
   "source": [
    "We'll use quartiles as a threshold"
   ]
  },
  {
   "cell_type": "code",
   "execution_count": 42,
   "metadata": {},
   "outputs": [
    {
     "data": {
      "text/plain": [
       "Text(0.5, 1.0, 'characteristics with higher ranking than the 75%')"
      ]
     },
     "execution_count": 42,
     "metadata": {},
     "output_type": "execute_result"
    },
    {
     "data": {
      "image/png": "[encoded data removed]",
      "text/plain": [
       "<Figure size 432x288 with 2 Axes>"
      ]
     },
     "metadata": {},
     "output_type": "display_data"
    }
   ],
   "source": [
    "sns.heatmap(attributes_crosstab[attributes_crosstab['weight']>2.49].sort_values(['highly recommended','dissapointing','weight'], ascending=[False,True,False]).head(10).iloc[:,:-1], cmap='YlGnBu', annot=True, fmt='.0%').set_title('characteristics with higher ranking than the 75%')"
   ]
  },
  {
   "attachments": {},
   "cell_type": "markdown",
   "metadata": {},
   "source": [
    "Notice the amount of characteristics related to flavors fruit (citrus, cherry, dried fruit, caramel, dairy).\n",
    "\n",
    "Also, cocoa seems to be a memorable characteristic in high rated bars"
   ]
  },
  {
   "cell_type": "code",
   "execution_count": 43,
   "metadata": {},
   "outputs": [
    {
     "data": {
      "text/plain": [
       "Text(0.5, 1.0, 'characteristics with higher ranking than the 25%')"
      ]
     },
     "execution_count": 43,
     "metadata": {},
     "output_type": "execute_result"
    },
    {
     "data": {
      "image/png": "[encoded data removed]",
      "text/plain": [
       "<Figure size 432x288 with 2 Axes>"
      ]
     },
     "metadata": {},
     "output_type": "display_data"
    }
   ],
   "source": [
    "sns.heatmap(attributes_crosstab[attributes_crosstab['weight']<1.98].sort_values(['dissapointing','weight'], ascending=[True, False]).tail(10).iloc[:,:-1], cmap='YlGnBu', annot=True, fmt='.0%').set_title('characteristics with higher ranking than the 25%')\n"
   ]
  },
  {
   "attachments": {},
   "cell_type": "markdown",
   "metadata": {},
   "source": [
    "In low rated bars, there are also memorable characteristics referring to flavor (vanilla, rubbery, dirty, pungent, metallic)"
   ]
  },
  {
   "attachments": {},
   "cell_type": "markdown",
   "metadata": {},
   "source": [
    "If you want to explore every attribute and understand what they represent, check out the [Flavors of Cacao review guide](http://flavorsofcacao.com/review_guide.html)"
   ]
  },
  {
   "attachments": {},
   "cell_type": "markdown",
   "metadata": {},
   "source": [
    "### 1.5) Country of bean origin "
   ]
  },
  {
   "cell_type": "code",
   "execution_count": 44,
   "metadata": {},
   "outputs": [
    {
     "data": {
      "text/plain": [
       "63"
      ]
     },
     "execution_count": 44,
     "metadata": {},
     "output_type": "execute_result"
    }
   ],
   "source": [
    "chocolate['Country of Bean Origin'].nunique()"
   ]
  },
  {
   "attachments": {},
   "cell_type": "markdown",
   "metadata": {},
   "source": [
    "Same as memorable characteristics, there are too many unique values. Anyways, since they are not too many countries, I´ve decided to categorize them manually. 'Region' column was created in cell #9"
   ]
  },
  {
   "cell_type": "code",
   "execution_count": 45,
   "metadata": {},
   "outputs": [
    {
     "data": {
      "text/plain": [
       " Central & South America    1705\n",
       " Africa                      364\n",
       " Asia                        179\n",
       " Blend                       156\n",
       " North America                89\n",
       " Oceania                      35\n",
       "Name: region, dtype: int64"
      ]
     },
     "execution_count": 45,
     "metadata": {},
     "output_type": "execute_result"
    }
   ],
   "source": [
    "chocolate['region'].value_counts()"
   ]
  },
  {
   "cell_type": "code",
   "execution_count": 46,
   "metadata": {},
   "outputs": [
    {
     "data": {
      "text/plain": [
       "<AxesSubplot:xlabel='Rating', ylabel='region'>"
      ]
     },
     "execution_count": 46,
     "metadata": {},
     "output_type": "execute_result"
    },
    {
     "data": {
      "image/png": "[encoded data removed]",
      "text/plain": [
       "<Figure size 432x288 with 2 Axes>"
      ]
     },
     "metadata": {},
     "output_type": "display_data"
    }
   ],
   "source": [
    "sns.heatmap(pd.crosstab(index=chocolate['region'], columns=chocolate['Rating'],normalize='index').reindex(category_order,axis=1),cmap='YlGnBu', annot=True, fmt='.0%')"
   ]
  },
  {
   "attachments": {},
   "cell_type": "markdown",
   "metadata": {},
   "source": [
    "Oceania and Blend (this means that Cocoa is a mix of many countries beans) seems to have a higher concentration in low rated bars, compared to the other regions. Let's test it with Chi-Square"
   ]
  },
  {
   "attachments": {},
   "cell_type": "markdown",
   "metadata": {},
   "source": [
    "##### Chi-square test of independence"
   ]
  },
  {
   "attachments": {},
   "cell_type": "markdown",
   "metadata": {},
   "source": [
    "H0: There is no association between rating and region of bean origin\n",
    "Ha: There is association between rating and region of bean origin\n",
    "Confidence interval: 95%"
   ]
  },
  {
   "cell_type": "code",
   "execution_count": 47,
   "metadata": {},
   "outputs": [
    {
     "name": "stdout",
     "output_type": "stream",
     "text": [
      "p-value: 0.1936043603820453\n"
     ]
    }
   ],
   "source": [
    "print('p-value: ' + str(scipy.stats.chi2_contingency(pd.crosstab(index=chocolate['region'], columns=chocolate['Rating']).reindex(category_order,axis=1))[1]))"
   ]
  },
  {
   "attachments": {},
   "cell_type": "markdown",
   "metadata": {},
   "source": [
    "Since p-value is higher than our threshold, we fail to reject the null hypothesis"
   ]
  },
  {
   "attachments": {},
   "cell_type": "markdown",
   "metadata": {},
   "source": [
    "## Conclusion"
   ]
  },
  {
   "attachments": {},
   "cell_type": "markdown",
   "metadata": {},
   "source": [
    "1) Lower rating have higher presence in chocolate bars with greater number of ingredients.\n",
    "\n",
    "2) There is a weak association between chocolate bars with vanilla and lower rating\n",
    "\n",
    "3) There is no relationship between cocoa percent and rating\n",
    "\n",
    "4) Many memorable characteristics of high-rated bars are related to fruity flavors and the cocoa used in the bar\n",
    "\n",
    "5) There is no relationship between cocoa bean region of origin and rating"
   ]
  }
 ],
 "metadata": {
  "kernelspec": {
   "display_name": "data-science",
   "language": "python",
   "name": "python3"
  },
  "language_info": {
   "codemirror_mode": {
    "name": "ipython",
    "version": 3
   },
   "file_extension": ".py",
   "mimetype": "text/x-python",
   "name": "python",
   "nbconvert_exporter": "python",
   "pygments_lexer": "ipython3",
   "version": "3.10.0"
  },
  "orig_nbformat": 4,
  "vscode": {
   "interpreter": {
    "hash": "51a7a7ca88aecc8d7ebb1567358fabc04d6ecb248bc390a347df5c23e774d670"
   }
  }
 },
 "nbformat": 4,
 "nbformat_minor": 2
}
